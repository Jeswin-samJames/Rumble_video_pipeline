{
 "cells": [
  {
   "cell_type": "code",
   "execution_count": 1,
   "id": "f9ccb2ed",
   "metadata": {},
   "outputs": [],
   "source": [
    "import os\n",
    "import json\n",
    "from pyspark.sql import SparkSession\n",
    "\n",
    "os.environ[\"HADOOP_HOME\"] = r\"C:\\hadoop\"\n",
    "os.environ[\"PATH\"] += os.pathsep + r\"C:\\hadoop\\bin\"\n",
    "os.environ['JAVA_HOME'] = r\"D:\\Applns\\Amazon Corretto\\jdk17.0.15_6\"\n",
    "os.environ['PATH'] = r\"D:\\Applns\\Amazon Corretto\\jdk17.0.15_6\\bin\" + os.pathsep + os.environ['PATH']\n"
   ]
  },
  {
   "cell_type": "code",
   "execution_count": 2,
   "id": "b39f50ab",
   "metadata": {},
   "outputs": [],
   "source": [
    "spark = SparkSession.builder \\\n",
    "    .master(\"local[*]\") \\\n",
    "    .appName(\"RumbleVideoETL_silverlayer\") \\\n",
    "    .config(\"spark.ui.port\", \"4050\") \\\n",
    "    .getOrCreate()\n"
   ]
  },
  {
   "cell_type": "code",
   "execution_count": 3,
   "id": "88861b4f",
   "metadata": {},
   "outputs": [],
   "source": [
    "bronze_data = spark.read.parquet(\"../data/bronze/rumble_videos_bronze.parquet\")\n",
    "selected_data = bronze_data.select(\"video_id\", \"video_url\", \"video_title\", \"video_host\", \"video_duration_s\",\n",
    "    \"video_date\", \"video_views\", \"upvotes_count\", \"downvotes_count\",\n",
    "    \"video_description\", \"video_tags\", \"comments\")\n",
    "\n",
    "silver_layer_data = selected_data.repartition(5).write.mode(\"overwrite\").parquet(\"../data/silver\")\n"
   ]
  },
  {
   "cell_type": "code",
   "execution_count": 4,
   "id": "5ef21f6d",
   "metadata": {},
   "outputs": [
    {
     "name": "stdout",
     "output_type": "stream",
     "text": [
      "+--------+--------------------+--------------------+-----------------+----------------+--------------------+-----------+-------------+---------------+--------------------+--------------------+--------------------+\n",
      "|video_id|           video_url|         video_title|       video_host|video_duration_s|          video_date|video_views|upvotes_count|downvotes_count|   video_description|          video_tags|            comments|\n",
      "+--------+--------------------+--------------------+-----------------+----------------+--------------------+-----------+-------------+---------------+--------------------+--------------------+--------------------+\n",
      "| v5c48et|https://rumble.co...|Is Trump Winning ...|         Tim Pool|            7823| 2024-08-23 00:00:00|       3970|           61|              4|     Host:\\nTim Pool|[Entertainment, t...|[{0, You're not g...|\n",
      "| v5d06le|https://rumble.co...|Creationism vs Si...|         Tim Pool|            7581|2024-08-30T21:00:...|      48900|          126|              7|Host:\\nTim Pool @...|     [Entertainment]|[{0, When people ...|\n",
      "| v5dmwhx|https://rumble.co...|Kamala's EMPTY Wo...|    Benny Johnson|             817|2024-09-04T19:00:...|       8400|           80|              3|Benny Johnson and...|              [News]|[{0, I heard TENE...|\n",
      "| v5c4c3v|https://rumble.co...|Are Americans Sma...|    Tayler Hansen|             551| 2024-08-24 00:00:00|       5920|           98|              1|Tayler Hansen ask...|[Entertainment, t...|[{0, All governme...|\n",
      "| v5ci9np|https://rumble.co...|What's Next For R...|    Benny Johnson|            1340|2024-08-27T00:00:...|      48000|          192|              4|Benny Johnson and...|              [News]|[{0, No! Vaccines...|\n",
      "| v5c40ii|https://rumble.co...|Men Vs Women: Wha...|    Tayler Hansen|            1146|2024-08-23T21:00:...|       3480|           40|              4|Tayler Hansen wen...|     [Entertainment]|[{0, That’s becau...|\n",
      "| v5codsz|https://rumble.co...|Politics vs Famil...|Matt Christiansen|             953|2024-08-28T14:00:...|      27500|          156|              1|Kerry Kennedy is ...|              [News]|[{0, A sister who...|\n",
      "| v5crt31|https://rumble.co...|Zuck Admits White...|Matt Christiansen|            5216|2024-08-29T01:00:...|       6720|           93|              1|Mark Zuckerberg t...|[News, tenet medi...|[{0, gonna try to...|\n",
      "| v5cqqvl|https://rumble.co...|Protesters STORM ...|    Tayler Hansen|             960|2024-08-28T19:00:...|       3560|           26|              1|Tayler Hansen wen...|              [News]|[{0, Okay, so thi...|\n",
      "| v5dcy2a|https://rumble.co...|Kamala's First In...|Matt Christiansen|             996|2024-09-02T16:30:...|       7330|          105|              2|Matt Christiansen...|              [News]|[{0, I have a pai...|\n",
      "| v5c4ee4|https://rumble.co...|DNC Riots: Is Any...|Matt Christiansen|             598| 2024-08-25 00:00:00|       5540|          127|              6|Matt Christiansen...|[News, tenet medi...|[{0, interesting ...|\n",
      "| v5cwrdf|https://rumble.co...|🚨YIKES: Kamala T...|    Benny Johnson|            7299|2024-08-30T01:00:...|       7900|           91|              2|🚨YIKES: Kamala T...|              [News]|[{0, She'll never...|\n",
      "| v5cvnlf|https://rumble.co...|Israeli Consulate...|    Tayler Hansen|             593|2024-08-29T20:00:...|       3420|           18|              0|On day two of the...|              [News]|[{0, Libtards and...|\n",
      "| v5d0f90|https://rumble.co...|Protesters CLASH ...|    Tayler Hansen|             731| 2024-08-30 00:00:00|       4230|           22|              0|On day four of th...|[News, tenet medi...|[{0, Ah, what goe...|\n",
      "| v5bwjq5|https://rumble.co...|Guest Jonathan Ch...|Matt Christiansen|            5060| 2024-08-21 00:00:00|       4190|           81|              0|Jonathan Choe des...|[News, tenet medi...|[{0, \"hates both ...|\n",
      "| v5d2heh|https://rumble.co...|Armed Migrant Gan...|Matt Christiansen|             695|2024-08-31T14:00:...|      18300|          210|              0|UPDATE: on Friday...|              [News]|[{0, Correction: ...|\n",
      "| v5d2f3t|https://rumble.co...|Armed Migrant Gan...|Matt Christiansen|               0| 2024-08-31 00:00:00|       5680|           27|              1|UPDATE: on Friday...|              [News]|[{0, Now thats wh...|\n",
      "| v5c5ydx|https://rumble.co...|‘Trust Women’: DN...|Matt Christiansen|             846|2024-08-24T14:00:...|       5770|          121|              1|In its constant o...|              [News]|[{0, The PRIVILEG...|\n",
      "| v5cmmn9|https://rumble.co...|Can Trump Win The...|         Tim Pool|             868|2024-08-27T22:00:...|      31700|           79|              6|Tim Pool, Ja'Mal ...|     [Entertainment]|[{0, Big pharma a...|\n",
      "| v5c0x4l|https://rumble.co...|🚨HAPPENING NOW: ...|    Benny Johnson|            8831|2024-08-23T01:58:...|       4030|           11|              1|🚨HAPPENING NOW: ...|              [News]|                  []|\n",
      "+--------+--------------------+--------------------+-----------------+----------------+--------------------+-----------+-------------+---------------+--------------------+--------------------+--------------------+\n",
      "\n"
     ]
    }
   ],
   "source": [
    "read_silver_layer_data  = spark.read.parquet(\"../data/silver\")\n",
    "read_silver_layer_data.show()\n"
   ]
  },
  {
   "cell_type": "code",
   "execution_count": 6,
   "id": "4ee38c50",
   "metadata": {},
   "outputs": [],
   "source": [
    "spark.stop()"
   ]
  },
  {
   "cell_type": "code",
   "execution_count": null,
   "id": "e18732ca",
   "metadata": {},
   "outputs": [],
   "source": []
  }
 ],
 "metadata": {
  "kernelspec": {
   "display_name": "Python 3",
   "language": "python",
   "name": "python3"
  },
  "language_info": {
   "codemirror_mode": {
    "name": "ipython",
    "version": 3
   },
   "file_extension": ".py",
   "mimetype": "text/x-python",
   "name": "python",
   "nbconvert_exporter": "python",
   "pygments_lexer": "ipython3",
   "version": "3.13.1"
  }
 },
 "nbformat": 4,
 "nbformat_minor": 5
}
