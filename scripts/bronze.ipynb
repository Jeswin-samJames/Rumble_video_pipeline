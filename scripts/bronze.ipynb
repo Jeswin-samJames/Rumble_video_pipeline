{
 "cells": [
  {
   "cell_type": "code",
   "execution_count": 1,
   "id": "7e55c9cb",
   "metadata": {},
   "outputs": [],
   "source": [
    "import os\n",
    "import json\n",
    "from pyspark.sql import SparkSession\n",
    "\n",
    "os.environ[\"HADOOP_HOME\"] = r\"C:\\hadoop\"\n",
    "os.environ[\"hadoop.home.dir\"] = r\"C:\\hadoop\"\n",
    "os.environ[\"PATH\"] += os.pathsep + r\"C:\\hadoop\\bin\"\n",
    "\n",
    "os.environ['JAVA_HOME'] = r\"D:\\Applns\\Amazon Corretto\\jdk17.0.15_6\"\n",
    "os.environ['PATH'] = r\"D:\\Applns\\Amazon Corretto\\jdk17.0.15_6\\bin\" + os.pathsep + os.environ['PATH']\n"
   ]
  },
  {
   "cell_type": "code",
   "execution_count": 2,
   "id": "6732657d",
   "metadata": {},
   "outputs": [
    {
     "data": {
      "text/html": [
       "\n",
       "            <div>\n",
       "                <p><b>SparkSession - in-memory</b></p>\n",
       "                \n",
       "        <div>\n",
       "            <p><b>SparkContext</b></p>\n",
       "\n",
       "            <p><a href=\"http://AL211652:4050\">Spark UI</a></p>\n",
       "\n",
       "            <dl>\n",
       "              <dt>Version</dt>\n",
       "                <dd><code>v3.5.1</code></dd>\n",
       "              <dt>Master</dt>\n",
       "                <dd><code>local[*]</code></dd>\n",
       "              <dt>AppName</dt>\n",
       "                <dd><code>RumbleVideoETL_bronzelayer</code></dd>\n",
       "            </dl>\n",
       "        </div>\n",
       "        \n",
       "            </div>\n",
       "        "
      ],
      "text/plain": [
       "<pyspark.sql.session.SparkSession at 0x1ce490e2900>"
      ]
     },
     "execution_count": 2,
     "metadata": {},
     "output_type": "execute_result"
    }
   ],
   "source": [
    "spark = SparkSession.builder \\\n",
    "    .master(\"local[*]\") \\\n",
    "    .appName(\"RumbleVideoETL_bronzelayer\") \\\n",
    "    .config(\"spark.ui.port\", \"4050\") \\\n",
    "    .getOrCreate()\n",
    "spark"
   ]
  },
  {
   "cell_type": "code",
   "execution_count": 3,
   "id": "1d50552e",
   "metadata": {},
   "outputs": [],
   "source": [
    "\n",
    "with open(\"../data/raw/rumble_video_data.json\") as f:\n",
    "    raw_data = json.load(f)\n",
    "\n",
    "flat_data = []\n",
    "for vid, info in raw_data.items():\n",
    "    info[\"video_id\"] = vid\n",
    "    flat_data.append(info)\n",
    "\n",
    "with open(\"../data/raw/flattened_rumble.json\", \"w\") as f:\n",
    "    json.dump(flat_data, f, indent=2)\n"
   ]
  },
  {
   "cell_type": "code",
   "execution_count": 5,
   "id": "74f5f786",
   "metadata": {},
   "outputs": [
    {
     "name": "stdout",
     "output_type": "stream",
     "text": [
      "+--------------------+--------------------+---------------+--------------------+-------------+--------------------+--------------------+--------------------+----------------------+--------------+----------------+-----------------+--------+--------------------+--------------------+--------------------+--------------------+--------------------+-----------+\n",
      "|        channel_name|            comments|downvotes_count|          transcript|upvotes_count|video_comment_number|          video_date|   video_description|video_description_cont|video_duration|video_duration_s|       video_host|video_id|    video_source_url|          video_tags| video_thumbnail_url|         video_title|           video_url|video_views|\n",
      "+--------------------+--------------------+---------------+--------------------+-------------+--------------------+--------------------+--------------------+----------------------+--------------+----------------+-----------------+--------+--------------------+--------------------+--------------------+--------------------+--------------------+-----------+\n",
      "|https://rumble.co...|[{0, I heard TENE...|              3|So you've been li...|           80|                  75|2024-09-04T19:00:...|Benny Johnson and...|  [Connect with TEN...|         13:37|             817|    Benny Johnson| v5dmwhx|https://1a-1791.c...|              [News]|https://1a-1791.c...|Kamala's EMPTY Wo...|https://rumble.co...|       8400|\n",
      "|https://rumble.co...|[{0, I have a pai...|              2|Kamala Harris's f...|          105|                   8|2024-09-02T16:30:...|Matt Christiansen...|  [Connect with TEN...|         16:36|             996|Matt Christiansen| v5dcy2a|https://1a-1791.c...|              [News]|https://1a-1791.c...|Kamala's First In...|https://rumble.co...|       7330|\n",
      "|https://rumble.co...|[{0, Correction: ...|              0|Whenever Joe Bide...|          210|                  24|2024-08-31T14:00:...|UPDATE: on Friday...|  [Video shows an a...|         11:35|             695|Matt Christiansen| v5d2heh|https://1a-1791.c...|              [News]|https://1a-1791.c...|Armed Migrant Gan...|https://rumble.co...|      18300|\n",
      "|https://rumble.co...|[{0, Now thats wh...|              1|          [NO AUDIO]|           27|                   2| 2024-08-31 00:00:00|UPDATE: on Friday...|  [Video shows an a...|         00:00|               0|Matt Christiansen| v5d2f3t|https://1a-1791.c...|              [News]|https://1a-1791.c...|Armed Migrant Gan...|https://rumble.co...|       5680|\n",
      "|https://rumble.co...|[{0, Ah, what goe...|              0|You're f***ing sc...|           22|                   5| 2024-08-30 00:00:00|On day four of th...|  [Connect with TEN...|         12:11|             731|    Tayler Hansen| v5d0f90|https://1a-1791.c...|[News, tenet medi...|https://1a-1791.c...|Protesters CLASH ...|https://rumble.co...|       4230|\n",
      "|https://rumble.co...|[{0, When people ...|              7|There's this ongo...|          126|                  52|2024-08-30T21:00:...|Host:\\nTim Pool @...|  [Guests:Roman Yam...|       2:06:21|            7581|         Tim Pool| v5d06le|https://1a-1791.c...|     [Entertainment]|https://1a-1791.c...|Creationism vs Si...|https://rumble.co...|      48900|\n",
      "|https://rumble.co...|[{0, She'll never...|              2|Starting in Georg...|           91|                  15|2024-08-30T01:00:...|🚨YIKES: Kamala T...|                    []|       2:01:39|            7299|    Benny Johnson| v5cwrdf|https://1a-1791.c...|              [News]|https://1a-1791.c...|🚨YIKES: Kamala T...|https://rumble.co...|       7900|\n",
      "|https://rumble.co...|[{0, Libtards and...|              0|[ Indistinct shou...|           18|                   7|2024-08-29T20:00:...|On day two of the...|  [Connect with TEN...|          9:53|             593|    Tayler Hansen| v5cvnlf|https://1a-1791.c...|              [News]|https://1a-1791.c...|Israeli Consulate...|https://rumble.co...|       3420|\n",
      "|https://rumble.co...|[{0, gonna try to...|              1|[Music] In this w...|           93|                   5|2024-08-29T01:00:...|Mark Zuckerberg t...|  [The Matt Christi...|       1:26:56|            5216|Matt Christiansen| v5crt31|https://1a-1791.c...|[News, tenet medi...|https://1a-1791.c...|Zuck Admits White...|https://rumble.co...|       6720|\n",
      "|https://rumble.co...|[{0, Okay, so thi...|              1|Well, can you exp...|           26|                   1|2024-08-28T19:00:...|Tayler Hansen wen...|  [Connect with TEN...|         16:00|             960|    Tayler Hansen| v5cqqvl|https://1a-1791.c...|              [News]|https://1a-1791.c...|Protesters STORM ...|https://rumble.co...|       3560|\n",
      "|https://rumble.co...|[{0, A sister who...|              1|It is getting rea...|          156|                  29|2024-08-28T14:00:...|Kerry Kennedy is ...|  [Connect with TEN...|         15:53|             953|Matt Christiansen| v5codsz|https://1a-1791.c...|              [News]|https://1a-1791.c...|Politics vs Famil...|https://rumble.co...|      27500|\n",
      "|https://rumble.co...|[{0, Big pharma a...|              6|Conservatives..It...|           79|                   8|2024-08-27T22:00:...|Tim Pool, Ja'Mal ...|  [Connect with TEN...|         14:28|             868|         Tim Pool| v5cmmn9|https://1a-1791.c...|     [Entertainment]|https://1a-1791.c...|Can Trump Win The...|https://rumble.co...|      31700|\n",
      "|https://rumble.co...|[{0, No! Vaccines...|              4|Rfk Jr. hates the...|          192|                  14|2024-08-27T00:00:...|Benny Johnson and...|  [Connect with TEN...|         22:20|            1340|    Benny Johnson| v5ci9np|https://1a-1791.c...|              [News]|https://1a-1791.c...|What's Next For R...|https://rumble.co...|      48000|\n",
      "|https://rumble.co...|[{0, interesting ...|              6|From my vantage p...|          127|                  13| 2024-08-25 00:00:00|Matt Christiansen...|  [Connect with TEN...|          9:58|             598|Matt Christiansen| v5c4ee4|https://1a-1791.c...|[News, tenet medi...|https://1a-1791.c...|DNC Riots: Is Any...|https://rumble.co...|       5540|\n",
      "|https://rumble.co...|[{0, All governme...|              1|What year did Ame...|           98|                  26| 2024-08-24 00:00:00|Tayler Hansen ask...|  [Connect with TEN...|          9:11|             551|    Tayler Hansen| v5c4c3v|https://1a-1791.c...|[Entertainment, t...|https://1a-1791.c...|Are Americans Sma...|https://rumble.co...|       5920|\n",
      "|https://rumble.co...|[{0, The PRIVILEG...|              1|I actually didn't...|          121|                  14|2024-08-24T14:00:...|In its constant o...|  [Connect with TEN...|         14:06|             846|Matt Christiansen| v5c5ydx|https://1a-1791.c...|              [News]|https://1a-1791.c...|‘Trust Women’: DN...|https://rumble.co...|       5770|\n",
      "|https://rumble.co...|[{0, You're not g...|              4|So last night, Ka...|           61|                  21| 2024-08-23 00:00:00|     Host:\\nTim Pool|  [Guest:Ja'Mal Gre...|       2:10:23|            7823|         Tim Pool| v5c48et|https://1a-1791.c...|[Entertainment, t...|https://1a-1791.c...|Is Trump Winning ...|https://rumble.co...|       3970|\n",
      "|https://rumble.co...|[{0, That’s becau...|              4|A f*cking big d*c...|           40|                   5|2024-08-23T21:00:...|Tayler Hansen wen...|  [Connect with TEN...|         19:06|            1146|    Tayler Hansen| v5c40ii|https://1a-1791.c...|     [Entertainment]|https://1a-1791.c...|Men Vs Women: Wha...|https://rumble.co...|       3480|\n",
      "|https://rumble.co...|                  []|              1|(upbeat music) - ...|           11|                   0|2024-08-23T01:58:...|🚨HAPPENING NOW: ...|                    []|       2:27:11|            8831|    Benny Johnson| v5c0x4l|https://1a-1791.c...|              [News]|https://1a-1791.c...|🚨HAPPENING NOW: ...|https://rumble.co...|       4030|\n",
      "|https://rumble.co...|[{0, \"hates both ...|              0|(whistling) - In ...|           81|                   3| 2024-08-21 00:00:00|Jonathan Choe des...|  [Jonathan Choe on...|       1:24:20|            5060|Matt Christiansen| v5bwjq5|https://1a-1791.c...|[News, tenet medi...|https://1a-1791.c...|Guest Jonathan Ch...|https://rumble.co...|       4190|\n",
      "+--------------------+--------------------+---------------+--------------------+-------------+--------------------+--------------------+--------------------+----------------------+--------------+----------------+-----------------+--------+--------------------+--------------------+--------------------+--------------------+--------------------+-----------+\n",
      "\n"
     ]
    }
   ],
   "source": [
    "flattened_data = spark.read.option(\"multiline\", \"true\").json(\"../data/raw/flattened_rumble.json\")\n",
    "flattened_data.show(n=100)\n",
    "flattened_data.write.mode(\"overwrite\").parquet(\"../data/bronze/rumble_videos_bronze.parquet\")\n",
    "\n"
   ]
  },
  {
   "cell_type": "code",
   "execution_count": 6,
   "id": "19acc6a1",
   "metadata": {},
   "outputs": [
    {
     "name": "stdout",
     "output_type": "stream",
     "text": [
      "+------------+----------------+-----------------+-----------------+-------------------+------------+----------------+------------------+------------------------------+---------------------------+-------------+-----------------------+------------------------+---------------------+---------------------------+----------------------------+---------------+-----------------------------+--------------------------+--------------------------------+-------------------------+------------+--------------------+------------------------------+--------------------------------+-------------+----------------------+----------------------------------+------------------------+------------------------------------------+------------------------+-------------------+-----------------------------------+---------------------------------------------+-----------------------------------+--------------+-------------+--------------+----------------+---------------------+----------------------------------------------------------------+-------------+----------------------------------------------------------------+-----+------------------+----------------------+-----------------------+--------------------------+---------------------------+--------------+-----------------------+-------------------------------+-----------------------------+-------------------+-------------------+-------------------+--------------+\n",
      "|EXTRACT_DATE|SEQID_DCSCM_FEED|UNIQUE_BAGGAGE_ID|COMPARTMENT_CLASS|BAGGAGE_SOURCE_TYPE|CARRIER_CODE|BAGGAGE_TAG_TYPE|BAGGAGE_TAG_NUMBER|BAGGAGE_FINAL_DESTINATION_CODE|RECORD_LOCATOR_COMPANY_CODE|TRANSFER_FLAG|BAGGAGE_TAG_SOURCE_TYPE|SPECIAL_REQUIREMENT_TYPE|BAGGAGE_LONG_FREETEXT|ISSUANCE_JULIAN_DATE_NUMBER|PERMANENT_BAGGAGE_TAG_NUMBER|PRINTER_ADDRESS|TOTAL_BAGGAGE_WEIGHT_KILOGRAM|TOTAL_BAGGAGE_WEIGHT_POUND|BAGGAGE_WEIGHT_MEASURE_UNIT_TYPE|WEIGHT_KNOWN_BAGGAGE_FLAG|BAGGAGE_TYPE|RECEIPT_PRINT_STATUS|AIRPORT_BAGGAGE_RECEIPT_NUMBER|BAGGAGE_TAG_ISSUING_CARRIER_CODE|SERIAL_NUMBER|FINAL_DESTINATION_CODE|BAGGAGE_TAG_ISSUING_CARRIER_NUMBER|ONLINE_OR_INTERLINE_TYPE|LINKED_BAGGAGE_ISSUANCE_JULIAN_DATE_NUMBER|LINKED_BAGGAGE_UNIQUE_ID|LINKED_BAGGAGE_TYPE|LINKED_BAGGAGE_RECEIPT_PRINT_STATUS|LINKED_BAGGAGE_AIRPORT_BAGGAGE_RECEIPT_NUMBER|BAGGAGE_DIMENSION_MEASURE_UNIT_TYPE|BAGGAGE_LENGTH|BAGGAGE_WIDTH|BAGGAGE_HEIGHT|EXACT_MATCH_FLAG|ITINERARY_UPDATE_FLAG|BAGGAGE_LAST_NAME                                               |CUSTOMER_TYPE|FIRST_NAME                                                      |TITLE|UNIQUE_CUSTOMER_ID|LAST_SEEN_FIRST_NUMBER|LAST_SEEN_SECOND_NUMBER|LAST_SEEN_DATE_TIME_FORMAT|LAST_SEEN_DATE_DDMMM_FORMAT|LAST_SEEN_TIME|LAST_SEEN_LOCATION_TYPE|LAST_SEEN_READING_LOCATION_CODE|LAST_SEEN_OTHER_LOCATION_TYPE|JST_CREATE_DATETIME|JST_UPDATE_DATETIME|UPDATE_CONTAINER_ID|UPDATE_USER_ID|\n",
      "+------------+----------------+-----------------+-----------------+-------------------+------------+----------------+------------------+------------------------------+---------------------------+-------------+-----------------------+------------------------+---------------------+---------------------------+----------------------------+---------------+-----------------------------+--------------------------+--------------------------------+-------------------------+------------+--------------------+------------------------------+--------------------------------+-------------+----------------------+----------------------------------+------------------------+------------------------------------------+------------------------+-------------------+-----------------------------------+---------------------------------------------+-----------------------------------+--------------+-------------+--------------+----------------+---------------------+----------------------------------------------------------------+-------------+----------------------------------------------------------------+-----+------------------+----------------------+-----------------------+--------------------------+---------------------------+--------------+-----------------------+-------------------------------+-----------------------------+-------------------+-------------------+-------------------+--------------+\n",
      "|2024-11-07  |3281            |10A15200035DZZZ1 |Y                |BSJ                |NH          |0               |1                 |FUK                           |205                        |0            |TSA                    |NULL                    |NULL                 |NULL                       |NULL                        |NULL           |NULL                         |NULL                      |NULL                            |1                        |STD         |NULL                |NULL                          |NULL                            |NULL         |NULL                  |NULL                              |NULL                    |NULL                                      |NULL                    |NULL               |NULL                               |NULL                                         |NULL                               |NULL          |NULL         |NULL          |1               |0                    |b8ad5265bf55f675cac939089df58ee8e654122649540a4178d1fff63c899bc2|A            |fd0abe07336880bd9b6b88ea6a097c0eee500d60c71bed01499c3353f60013d6|MRS  |6102840D0007ZZZ0_ |NULL                  |NULL                   |NULL                      |NULL                       |NULL          |NULL                   |NULL                           |NULL                         |2025-02-20 00:00:00|2025-02-20 00:00:00|CASP-A102001_01    |USERID001     |\n",
      "|2024-11-07  |3281            |10A15200035DZZZ2 |Y                |BSJ                |NH          |0               |2                 |FUK                           |205                        |0            |TSA                    |NULL                    |NULL                 |NULL                       |NULL                        |NULL           |NULL                         |NULL                      |NULL                            |1                        |STD         |NULL                |NULL                          |NULL                            |NULL         |NULL                  |NULL                              |NULL                    |NULL                                      |NULL                    |NULL               |NULL                               |NULL                                         |NULL                               |NULL          |NULL         |NULL          |1               |0                    |b8ad5265bf55f675cac939089df58ee8e654122649540a4178d1fff63c899bc2|A            |fd0abe07336880bd9b6b88ea6a097c0eee500d60c71bed01499c3353f60013d6|MRS  |6102840D0007ZZZ1_ |NULL                  |NULL                   |NULL                      |NULL                       |NULL          |NULL                   |NULL                           |NULL                         |2025-02-20 00:00:00|2025-02-20 00:00:00|CASP-A102001_01    |USERID001     |\n",
      "|2024-11-07  |3301            |10A15200035D1600 |Y                |BSJ                |NH          |0               |160000            |FUK                           |205                        |0            |TSA                    |NULL                    |NULL                 |NULL                       |NULL                        |NULL           |NULL                         |NULL                      |NULL                            |1                        |STD         |NULL                |NULL                          |NULL                            |NULL         |NULL                  |NULL                              |NULL                    |NULL                                      |NULL                    |NULL               |NULL                               |NULL                                         |NULL                               |NULL          |NULL         |NULL          |1               |0                    |b8ad5265bf55f675cac939089df58ee8e654122649540a4178d1fff63c899bc2|A            |fd0abe07336880bd9b6b88ea6a097c0eee500d60c71bed01499c3353f60013d6|MRS  |6102840D0007LC00_ |NULL                  |NULL                   |NULL                      |NULL                       |NULL          |NULL                   |NULL                           |NULL                         |2025-02-20 00:00:00|2025-02-20 00:00:00|CASP-A102001_01    |USERID001     |\n",
      "|2024-11-07  |3301            |10A15200035D1601 |Y                |BSJ                |NH          |0               |160001            |FUK                           |205                        |0            |TSA                    |NULL                    |NULL                 |NULL                       |NULL                        |NULL           |NULL                         |NULL                      |NULL                            |1                        |STD         |NULL                |NULL                          |NULL                            |NULL         |NULL                  |NULL                              |NULL                    |NULL                                      |NULL                    |NULL               |NULL                               |NULL                                         |NULL                               |NULL          |NULL         |NULL          |1               |0                    |b8ad5265bf55f675cac939089df58ee8e654122649540a4178d1fff63c899bc2|A            |fd0abe07336880bd9b6b88ea6a097c0eee500d60c71bed01499c3353f60013d6|MRS  |6102840D0007LC01_ |NULL                  |NULL                   |NULL                      |NULL                       |NULL          |NULL                   |NULL                           |NULL                         |2025-02-20 00:00:00|2025-02-20 00:00:00|CASP-A102001_01    |USERID001     |\n",
      "|2024-11-07  |3301            |10A15200035D1602 |Y                |BSJ                |NH          |0               |160002            |FUK                           |205                        |0            |TSA                    |NULL                    |NULL                 |NULL                       |NULL                        |NULL           |NULL                         |NULL                      |NULL                            |1                        |STD         |NULL                |NULL                          |NULL                            |NULL         |NULL                  |NULL                              |NULL                    |NULL                                      |NULL                    |NULL               |NULL                               |NULL                                         |NULL                               |NULL          |NULL         |NULL          |1               |0                    |b8ad5265bf55f675cac939089df58ee8e654122649540a4178d1fff63c899bc2|A            |fd0abe07336880bd9b6b88ea6a097c0eee500d60c71bed01499c3353f60013d6|MRS  |6102840D0007LC02_ |NULL                  |NULL                   |NULL                      |NULL                       |NULL          |NULL                   |NULL                           |NULL                         |2025-02-20 00:00:00|2025-02-20 00:00:00|CASP-A102001_01    |USERID001     |\n",
      "|2024-11-07  |3321            |10A15200035D1603 |Y                |BSJ                |NH          |0               |160003            |FUK                           |205                        |0            |TSA                    |NULL                    |NULL                 |NULL                       |NULL                        |NULL           |NULL                         |NULL                      |NULL                            |1                        |STD         |NULL                |NULL                          |NULL                            |NULL         |NULL                  |NULL                              |NULL                    |NULL                                      |NULL                    |NULL               |NULL                               |NULL                                         |NULL                               |NULL          |NULL         |NULL          |1               |0                    |b8ad5265bf55f675cac939089df58ee8e654122649540a4178d1fff63c899bc2|A            |fd0abe07336880bd9b6b88ea6a097c0eee500d60c71bed01499c3353f60013d6|MRS  |6102840D0007LC03_ |NULL                  |NULL                   |NULL                      |NULL                       |NULL          |NULL                   |NULL                           |NULL                         |2025-02-20 00:00:00|2025-02-20 00:00:00|CASP-A102001_01    |USERID001     |\n",
      "|2024-11-07  |3321            |10A15200035D1611 |Y                |BSJ                |NH          |0               |161001            |FUK                           |205                        |0            |TSA                    |NULL                    |NULL                 |NULL                       |NULL                        |NULL           |NULL                         |NULL                      |NULL                            |1                        |STD         |NULL                |NULL                          |NULL                            |NULL         |NULL                  |NULL                              |NULL                    |NULL                                      |NULL                    |NULL               |NULL                               |NULL                                         |NULL                               |NULL          |NULL         |NULL          |1               |0                    |b8ad5265bf55f675cac939089df58ee8e654122649540a4178d1fff63c899bc2|A            |fd0abe07336880bd9b6b88ea6a097c0eee500d60c71bed01499c3353f60013d6|MRS  |6102840D0007MC01_ |NULL                  |NULL                   |NULL                      |NULL                       |NULL          |NULL                   |NULL                           |NULL                         |2025-02-20 00:00:00|2025-02-20 00:00:00|CASP-A102001_01    |USERID001     |\n",
      "|2024-11-07  |3321            |10A15200035D1612 |Y                |BSJ                |NH          |0               |161002            |FUK                           |205                        |0            |TSA                    |NULL                    |NULL                 |NULL                       |NULL                        |NULL           |NULL                         |NULL                      |NULL                            |1                        |STD         |NULL                |NULL                          |NULL                            |NULL         |NULL                  |NULL                              |NULL                    |NULL                                      |NULL                    |NULL               |NULL                               |NULL                                         |NULL                               |NULL          |NULL         |NULL          |1               |0                    |b8ad5265bf55f675cac939089df58ee8e654122649540a4178d1fff63c899bc2|A            |fd0abe07336880bd9b6b88ea6a097c0eee500d60c71bed01499c3353f60013d6|MRS  |6102840D0007MC02_ |NULL                  |NULL                   |NULL                      |NULL                       |NULL          |NULL                   |NULL                           |NULL                         |2025-02-20 00:00:00|2025-02-20 00:00:00|CASP-A102001_01    |USERID001     |\n",
      "|2024-11-07  |3321            |10A15200035D1613 |Y                |BSJ                |NH          |0               |161003            |FUK                           |205                        |0            |TSA                    |NULL                    |NULL                 |NULL                       |NULL                        |NULL           |NULL                         |NULL                      |NULL                            |1                        |STD         |NULL                |NULL                          |NULL                            |NULL         |NULL                  |NULL                              |NULL                    |NULL                                      |NULL                    |NULL               |NULL                               |NULL                                         |NULL                               |NULL          |NULL         |NULL          |1               |0                    |b8ad5265bf55f675cac939089df58ee8e654122649540a4178d1fff63c899bc2|A            |fd0abe07336880bd9b6b88ea6a097c0eee500d60c71bed01499c3353f60013d6|MRS  |6102840D0007MC03_ |NULL                  |NULL                   |NULL                      |NULL                       |NULL          |NULL                   |NULL                           |NULL                         |2025-02-20 00:00:00|2025-02-20 00:00:00|CASP-A102001_01    |USERID001     |\n",
      "|2024-11-07  |3321            |10A15200035D1614 |Y                |BSJ                |NH          |0               |161004            |FUK                           |205                        |0            |TSA                    |NULL                    |NULL                 |NULL                       |NULL                        |NULL           |NULL                         |NULL                      |NULL                            |1                        |STD         |NULL                |NULL                          |NULL                            |NULL         |NULL                  |NULL                              |NULL                    |NULL                                      |NULL                    |NULL               |NULL                               |NULL                                         |NULL                               |NULL          |NULL         |NULL          |1               |0                    |b8ad5265bf55f675cac939089df58ee8e654122649540a4178d1fff63c899bc2|A            |fd0abe07336880bd9b6b88ea6a097c0eee500d60c71bed01499c3353f60013d6|MRS  |6102840D0007MC04_ |NULL                  |NULL                   |NULL                      |NULL                       |NULL          |NULL                   |NULL                           |NULL                         |2025-02-20 00:00:00|2025-02-20 00:00:00|CASP-A102001_01    |USERID001     |\n",
      "|2024-11-07  |3322            |10A15200035D1615 |Y                |BSJ                |NH          |0               |161005            |FUK                           |205                        |0            |TSA                    |NULL                    |NULL                 |NULL                       |NULL                        |NULL           |NULL                         |NULL                      |NULL                            |1                        |STD         |NULL                |NULL                          |NULL                            |NULL         |NULL                  |NULL                              |NULL                    |NULL                                      |NULL                    |NULL               |NULL                               |NULL                                         |NULL                               |NULL          |NULL         |NULL          |1               |0                    |b8ad5265bf55f675cac939089df58ee8e654122649540a4178d1fff63c899bc2|A            |fd0abe07336880bd9b6b88ea6a097c0eee500d60c71bed01499c3353f60013d6|MRS  |6102840D0007MC05_ |NULL                  |NULL                   |NULL                      |NULL                       |NULL          |NULL                   |NULL                           |NULL                         |2025-02-20 00:00:00|2025-02-20 00:00:00|CASP-A102001_01    |USERID001     |\n",
      "|2024-11-07  |3322            |10A15200035D1616 |Y                |BSJ                |NH          |0               |161006            |FUK                           |205                        |0            |TSA                    |NULL                    |NULL                 |NULL                       |NULL                        |NULL           |NULL                         |NULL                      |NULL                            |1                        |STD         |NULL                |NULL                          |NULL                            |NULL         |NULL                  |NULL                              |NULL                    |NULL                                      |NULL                    |NULL               |NULL                               |NULL                                         |NULL                               |NULL          |NULL         |NULL          |1               |0                    |b8ad5265bf55f675cac939089df58ee8e654122649540a4178d1fff63c899bc2|A            |fd0abe07336880bd9b6b88ea6a097c0eee500d60c71bed01499c3353f60013d6|MRS  |6102840D0007MC06_ |NULL                  |NULL                   |NULL                      |NULL                       |NULL          |NULL                   |NULL                           |NULL                         |2025-02-20 00:00:00|2025-02-20 00:00:00|CASP-A102001_01    |USERID001     |\n",
      "|2024-11-07  |3322            |10A15200035D1617 |Y                |BSJ                |NH          |0               |161007            |FUK                           |205                        |0            |TSA                    |NULL                    |NULL                 |NULL                       |NULL                        |NULL           |NULL                         |NULL                      |NULL                            |1                        |STD         |NULL                |NULL                          |NULL                            |NULL         |NULL                  |NULL                              |NULL                    |NULL                                      |NULL                    |NULL               |NULL                               |NULL                                         |NULL                               |NULL          |NULL         |NULL          |1               |0                    |b8ad5265bf55f675cac939089df58ee8e654122649540a4178d1fff63c899bc2|A            |fd0abe07336880bd9b6b88ea6a097c0eee500d60c71bed01499c3353f60013d6|MRS  |6102840D0007MC07_ |NULL                  |NULL                   |NULL                      |NULL                       |NULL          |NULL                   |NULL                           |NULL                         |2025-02-20 00:00:00|2025-02-20 00:00:00|CASP-A102001_01    |USERID001     |\n",
      "|2024-11-07  |3322            |10A15200035D1618 |Y                |BSJ                |NH          |0               |161008            |FUK                           |205                        |0            |TSA                    |NULL                    |NULL                 |NULL                       |NULL                        |NULL           |NULL                         |NULL                      |NULL                            |1                        |STD         |NULL                |NULL                          |NULL                            |NULL         |NULL                  |NULL                              |NULL                    |NULL                                      |NULL                    |NULL               |NULL                               |NULL                                         |NULL                               |NULL          |NULL         |NULL          |1               |0                    |b8ad5265bf55f675cac939089df58ee8e654122649540a4178d1fff63c899bc2|A            |fd0abe07336880bd9b6b88ea6a097c0eee500d60c71bed01499c3353f60013d6|MRS  |6102840D0007MC08_ |NULL                  |NULL                   |NULL                      |NULL                       |NULL          |NULL                   |NULL                           |NULL                         |2025-02-20 00:00:00|2025-02-20 00:00:00|CASP-A102001_01    |USERID001     |\n",
      "|2024-11-07  |3322            |10A15200035D1621 |Y                |BSJ                |NH          |0               |162001            |FUK                           |205                        |0            |TSA                    |NULL                    |NULL                 |NULL                       |NULL                        |NULL           |NULL                         |NULL                      |NULL                            |1                        |STD         |NULL                |NULL                          |NULL                            |NULL         |NULL                  |NULL                              |NULL                    |NULL                                      |NULL                    |NULL               |NULL                               |NULL                                         |NULL                               |NULL          |NULL         |NULL          |1               |0                    |b8ad5265bf55f675cac939089df58ee8e654122649540a4178d1fff63c899bc2|A            |fd0abe07336880bd9b6b88ea6a097c0eee500d60c71bed01499c3353f60013d6|MRS  |6102840D0007NC01_ |NULL                  |NULL                   |NULL                      |NULL                       |NULL          |NULL                   |NULL                           |NULL                         |2025-02-20 00:00:00|2025-02-20 00:00:00|CASP-A102001_01    |USERID001     |\n",
      "|2024-11-07  |3323            |10A15200035D1622 |Y                |BSJ                |NH          |0               |162002            |FUK                           |205                        |0            |TSA                    |NULL                    |NULL                 |NULL                       |NULL                        |NULL           |NULL                         |NULL                      |NULL                            |1                        |STD         |NULL                |NULL                          |NULL                            |NULL         |NULL                  |NULL                              |NULL                    |NULL                                      |NULL                    |NULL               |NULL                               |NULL                                         |NULL                               |NULL          |NULL         |NULL          |1               |0                    |b8ad5265bf55f675cac939089df58ee8e654122649540a4178d1fff63c899bc2|A            |fd0abe07336880bd9b6b88ea6a097c0eee500d60c71bed01499c3353f60013d6|MRS  |6102840D0007NC02_ |NULL                  |NULL                   |NULL                      |NULL                       |NULL          |NULL                   |NULL                           |NULL                         |2025-02-20 00:00:00|2025-02-20 00:00:00|CASP-A102001_01    |USERID001     |\n",
      "|2024-11-07  |3323            |10A15200035D1623 |Y                |BSJ                |NH          |0               |162003            |FUK                           |205                        |0            |TSA                    |NULL                    |NULL                 |NULL                       |NULL                        |NULL           |NULL                         |NULL                      |NULL                            |1                        |STD         |NULL                |NULL                          |NULL                            |NULL         |NULL                  |NULL                              |NULL                    |NULL                                      |NULL                    |NULL               |NULL                               |NULL                                         |NULL                               |NULL          |NULL         |NULL          |1               |0                    |b8ad5265bf55f675cac939089df58ee8e654122649540a4178d1fff63c899bc2|A            |fd0abe07336880bd9b6b88ea6a097c0eee500d60c71bed01499c3353f60013d6|MRS  |6102840D0007NC03_ |NULL                  |NULL                   |NULL                      |NULL                       |NULL          |NULL                   |NULL                           |NULL                         |2025-02-20 00:00:00|2025-02-20 00:00:00|CASP-A102001_01    |USERID001     |\n",
      "|2024-11-07  |3323            |10A15200035D1624 |Y                |BSJ                |NH          |0               |162004            |FUK                           |205                        |0            |TSA                    |NULL                    |NULL                 |NULL                       |NULL                        |NULL           |NULL                         |NULL                      |NULL                            |1                        |STD         |NULL                |NULL                          |NULL                            |NULL         |NULL                  |NULL                              |NULL                    |NULL                                      |NULL                    |NULL               |NULL                               |NULL                                         |NULL                               |NULL          |NULL         |NULL          |1               |0                    |b8ad5265bf55f675cac939089df58ee8e654122649540a4178d1fff63c899bc2|A            |fd0abe07336880bd9b6b88ea6a097c0eee500d60c71bed01499c3353f60013d6|MRS  |6102840D0007NC04_ |NULL                  |NULL                   |NULL                      |NULL                       |NULL          |NULL                   |NULL                           |NULL                         |2025-02-20 00:00:00|2025-02-20 00:00:00|CASP-A102001_01    |USERID001     |\n",
      "|2024-11-07  |3323            |10A15200035D1625 |Y                |BSJ                |NULL        |0               |162005            |FUK                           |205                        |0            |TSA                    |NULL                    |NULL                 |NULL                       |NULL                        |NULL           |NULL                         |NULL                      |NULL                            |1                        |STD         |NULL                |NULL                          |NULL                            |NULL         |NULL                  |NULL                              |NULL                    |NULL                                      |NULL                    |NULL               |NULL                               |NULL                                         |NULL                               |NULL          |NULL         |NULL          |1               |0                    |b8ad5265bf55f675cac939089df58ee8e654122649540a4178d1fff63c899bc2|A            |fd0abe07336880bd9b6b88ea6a097c0eee500d60c71bed01499c3353f60013d6|MRS  |6102840D0007NC05_ |NULL                  |NULL                   |NULL                      |NULL                       |NULL          |NULL                   |NULL                           |NULL                         |2025-02-20 00:00:00|2025-02-20 00:00:00|CASP-A102001_01    |USERID001     |\n",
      "|2024-11-07  |3323            |10A15200035D1626 |Y                |BSJ                |NH          |0               |NULL              |FUK                           |205                        |0            |TSA                    |NULL                    |NULL                 |NULL                       |NULL                        |NULL           |NULL                         |NULL                      |NULL                            |1                        |STD         |NULL                |NULL                          |NULL                            |NULL         |NULL                  |NULL                              |NULL                    |NULL                                      |NULL                    |NULL               |NULL                               |NULL                                         |NULL                               |NULL          |NULL         |NULL          |1               |0                    |b8ad5265bf55f675cac939089df58ee8e654122649540a4178d1fff63c899bc2|A            |fd0abe07336880bd9b6b88ea6a097c0eee500d60c71bed01499c3353f60013d6|MRS  |6102840D0007NC06_ |NULL                  |NULL                   |NULL                      |NULL                       |NULL          |NULL                   |NULL                           |NULL                         |2025-02-20 00:00:00|2025-02-20 00:00:00|CASP-A102001_01    |USERID001     |\n",
      "+------------+----------------+-----------------+-----------------+-------------------+------------+----------------+------------------+------------------------------+---------------------------+-------------+-----------------------+------------------------+---------------------+---------------------------+----------------------------+---------------+-----------------------------+--------------------------+--------------------------------+-------------------------+------------+--------------------+------------------------------+--------------------------------+-------------+----------------------+----------------------------------+------------------------+------------------------------------------+------------------------+-------------------+-----------------------------------+---------------------------------------------+-----------------------------------+--------------+-------------+--------------+----------------+---------------------+----------------------------------------------------------------+-------------+----------------------------------------------------------------+-----+------------------+----------------------+-----------------------+--------------------------+---------------------------+--------------+-----------------------+-------------------------------+-----------------------------+-------------------+-------------------+-------------------+--------------+\n",
      "\n"
     ]
    }
   ],
   "source": [
    "\n",
    "table = spark.read.parquet(\"../l0_table.parquet\")\n",
    "table.show(truncate=False)\n"
   ]
  },
  {
   "cell_type": "code",
   "execution_count": 7,
   "id": "2c5b2445",
   "metadata": {},
   "outputs": [],
   "source": [
    "spark.stop()"
   ]
  },
  {
   "cell_type": "code",
   "execution_count": null,
   "id": "5038699d",
   "metadata": {},
   "outputs": [],
   "source": [
    "\n"
   ]
  },
  {
   "cell_type": "code",
   "execution_count": null,
   "id": "2f6a4249",
   "metadata": {},
   "outputs": [],
   "source": []
  },
  {
   "cell_type": "code",
   "execution_count": null,
   "id": "148dc1d0",
   "metadata": {},
   "outputs": [],
   "source": []
  }
 ],
 "metadata": {
  "kernelspec": {
   "display_name": "Python 3",
   "language": "python",
   "name": "python3"
  },
  "language_info": {
   "codemirror_mode": {
    "name": "ipython",
    "version": 3
   },
   "file_extension": ".py",
   "mimetype": "text/x-python",
   "name": "python",
   "nbconvert_exporter": "python",
   "pygments_lexer": "ipython3",
   "version": "3.13.1"
  }
 },
 "nbformat": 4,
 "nbformat_minor": 5
}
